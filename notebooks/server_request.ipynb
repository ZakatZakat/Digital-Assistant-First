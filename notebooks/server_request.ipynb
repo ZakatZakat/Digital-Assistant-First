{
 "cells": [
  {
   "cell_type": "code",
   "execution_count": null,
   "metadata": {},
   "outputs": [],
   "source": [
    "import requests\n",
    "\n",
    "\n",
    "response = requests.post(\n",
    "    url=\"http://127.0.0.1:8080/message\",\n",
    "    json={\n",
    "        \"user_id\": 4,\n",
    "        \"message\": \"Как установить ВТБ онлйан на Андроид? Дай короткую инструкцию\",\n",
    "    },\n",
    ")\n",
    "response.content.decode()"
   ]
  },
  {
   "cell_type": "code",
   "execution_count": null,
   "metadata": {},
   "outputs": [],
   "source": []
  }
 ],
 "metadata": {
  "kernelspec": {
   "display_name": ".venv",
   "language": "python",
   "name": "python3"
  },
  "language_info": {
   "codemirror_mode": {
    "name": "ipython",
    "version": 3
   },
   "file_extension": ".py",
   "mimetype": "text/x-python",
   "name": "python",
   "nbconvert_exporter": "python",
   "pygments_lexer": "ipython3",
   "version": "3.10.7"
  }
 },
 "nbformat": 4,
 "nbformat_minor": 2
}
