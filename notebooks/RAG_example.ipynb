{
 "cells": [
  {
   "cell_type": "code",
   "execution_count": 1,
   "metadata": {},
   "outputs": [
    {
     "name": "stderr",
     "output_type": "stream",
     "text": [
      "/Users/askarembulatov/Github_projects/Digital-Assistant/.venv/lib/python3.10/site-packages/tqdm/auto.py:21: TqdmWarning: IProgress not found. Please update jupyter and ipywidgets. See https://ipywidgets.readthedocs.io/en/stable/user_install.html\n",
      "  from .autonotebook import tqdm as notebook_tqdm\n"
     ]
    },
    {
     "name": "stdout",
     "output_type": "stream",
     "text": [
      "The token has not been saved to the git credentials helper. Pass `add_to_git_credential=True` in this function directly or `--add-to-git-credential` if using via `huggingface-cli` if you want to set the git credential as well.\n",
      "Token is valid (permission: write).\n",
      "Your token has been saved to /Users/askarembulatov/.cache/huggingface/token\n",
      "Login successful\n"
     ]
    }
   ],
   "source": [
    "import os\n",
    "import sys\n",
    "import pprint\n",
    "from dotenv import load_dotenv\n",
    "from huggingface_hub import login\n",
    "\n",
    "\n",
    "import os\n",
    "from dotenv import load_dotenv\n",
    "from huggingface_hub import login\n",
    "from langchain_community.document_loaders import TextLoader\n",
    "from langchain.text_splitter import CharacterTextSplitter\n",
    "from langchain_community.llms import Ollama\n",
    "from langchain_community.embeddings import HuggingFaceEmbeddings\n",
    "from langchain_community.vectorstores import FAISS\n",
    "from langchain.chains import RetrievalQA\n",
    "\n",
    "# Load environment variables from .env file\n",
    "load_dotenv()\n",
    "\n",
    "# Get token from environment variable\n",
    "token = os.getenv(\"HF_API_TOKEN\")\n",
    "\n",
    "# Login to Hugging Face\n",
    "login(token=token)"
   ]
  },
  {
   "cell_type": "code",
   "execution_count": 2,
   "metadata": {},
   "outputs": [
    {
     "name": "stderr",
     "output_type": "stream",
     "text": [
      "/var/folders/ws/sl0l06mn5kv5v699q9j1sgy80000gn/T/ipykernel_1859/4066427327.py:5: LangChainDeprecationWarning: The class `HuggingFaceEmbeddings` was deprecated in LangChain 0.2.2 and will be removed in 0.3.0. An updated version of the class exists in the langchain-huggingface package and should be used instead. To use it run `pip install -U langchain-huggingface` and import as `from langchain_huggingface import HuggingFaceEmbeddings`.\n",
      "  embeddings = HuggingFaceEmbeddings(model_name=\"sentence-transformers/all-MiniLM-L6-v2\")\n",
      "/Users/askarembulatov/Github_projects/Digital-Assistant/.venv/lib/python3.10/site-packages/transformers/tokenization_utils_base.py:1601: FutureWarning: `clean_up_tokenization_spaces` was not set. It will be set to `True` by default. This behavior will be depracted in transformers v4.45, and will be then set to `False` by default. For more details check this issue: https://github.com/huggingface/transformers/issues/31884\n",
      "  warnings.warn(\n"
     ]
    },
    {
     "name": "stdout",
     "output_type": "stream",
     "text": [
      "{'query': 'установить ВТБ Онлайн на Android.',\n",
      " 'result': 'Чтобы установить приложение ВТБ Онлайн на устройстве с '\n",
      "           'операционной системой Android, выполните следующие действия:\\n'\n",
      "           '\\n'\n",
      "           '1. Скачайте приложение из интернет-магазина Google Play или '\n",
      "           'другого официального источника.\\n'\n",
      "           '2. Запустите процесс установки, найдя скачанный файл в разделе '\n",
      "           '\"Загрузки\" или \"Скачанные файлы\".\\n'\n",
      "           '3. Разрешите браузеру устанавливать приложение, если он просит '\n",
      "           'подтверждения разрешений.\\n'\n",
      "           '4. Дождитесь завершения процесса установки и запуска приложения.\\n'\n",
      "           '\\n'\n",
      "           'Вот соответствующая информация из предоставленного контекста:\\n'\n",
      "           '\\n'\n",
      "           '\"Скачайте приложение ВТБ Онлайн для Android и установите его на '\n",
      "           'свой смартфон или планшет.\"\\n'\n",
      "           '\\n'\n",
      "           'Или, еще более подробно:\\n'\n",
      "           '\\n'\n",
      "           '\"...скачайте приложение с Google Play и установите...\"\\n'\n",
      "           '\\n'\n",
      "           'Такой способ установки является общепринятой и безопасной '\n",
      "           'практикой для устройств с операционной системой Android.'}\n"
     ]
    }
   ],
   "source": [
    "from huggingface_hub import login\n",
    "\n",
    "os.chdir(\"/Users/askarembulatov/Github_projects/Digital-Assistant\")\n",
    "sys.path.append(os.path.abspath(\"./src\"))\n",
    "\n",
    "embeddings = HuggingFaceEmbeddings(model_name=\"sentence-transformers/all-MiniLM-L6-v2\")\n",
    "\n",
    "llm = Ollama(model=\"llama3.1\")\n",
    "\n",
    "# Load and prepare documents\n",
    "# loader = TextLoader('content/global_js.json')\n",
    "loader = TextLoader(\"content/global_js.json\")\n",
    "documents = loader.load()\n",
    "\n",
    "# Split documents into chunks\n",
    "text_splitter = CharacterTextSplitter(chunk_size=4000, chunk_overlap=0)\n",
    "docs = text_splitter.split_documents(documents)\n",
    "\n",
    "# Create FAISS vector store\n",
    "vector_store = FAISS.from_documents(docs, embeddings)\n",
    "\n",
    "# Set up RetrievalQA chain\n",
    "rag_chain = RetrievalQA.from_chain_type(\n",
    "    llm=llm,\n",
    "    chain_type=\"refine\",\n",
    "    retriever=vector_store.as_retriever(),\n",
    ")\n",
    "\n",
    "# query = 'Сколько стоит подключения услуги оповещений?'\n",
    "\n",
    "# query = 'Расскажи про карту Привелегия'\n",
    "\n",
    "# query = 'Как установить ВТБ pay?'\n",
    "\n",
    "# query = 'стоимость обслуживания карты \"карта возможности?'\n",
    "\n",
    "# query = 'расскажи про снятие наличных по QR-коду'\n",
    "\n",
    "# query = 'расскажи про снятие наличных в банкоматах'\n",
    "\n",
    "# query = 'расскажи мне про условия снятия наличных в банкоматах'\n",
    "\n",
    "query = \"установить ВТБ Онлайн на Android.\"\n",
    "\n",
    "response = rag_chain.invoke(query)\n",
    "pprint.pprint(response)"
   ]
  },
  {
   "cell_type": "code",
   "execution_count": 3,
   "metadata": {},
   "outputs": [
    {
     "name": "stdout",
     "output_type": "stream",
     "text": [
      "{'query': 'какой файл может быть опасным?',\n",
      " 'result': 'По информации в контексте, опасным файлом может быть:\\n'\n",
      "           '\\n'\n",
      "           '\"vtbonline.apk\"\\n'\n",
      "           '\\n'\n",
      "           'Этот файл упоминается в разделе \"Установка ВТБ Онлайн на Android\", '\n",
      "           'где говорится, что после скачивания и запуска установки будет '\n",
      "           'появляться сообщение о неизвестном источнике, которое является '\n",
      "           'стандартное предупреждение.'}\n"
     ]
    }
   ],
   "source": [
    "query = \"какой файл может быть опасным?\"\n",
    "\n",
    "response = rag_chain.invoke(query)\n",
    "pprint.pprint(response)"
   ]
  },
  {
   "cell_type": "code",
   "execution_count": 3,
   "metadata": {},
   "outputs": [
    {
     "name": "stdout",
     "output_type": "stream",
     "text": [
      "{'query': 'какая комиссия за обслуживание кредитной «Карта возможностей»\"',\n",
      " 'result': 'По контексту информации ответом будет:\\n'\n",
      "           '\\n'\n",
      "           '\"Обслуживание карты\": {\\n'\n",
      "           '            \"Стоимость\": \"0 ₽\",\\n'\n",
      "           '            \"Описание\": \"Независимо от суммы покупок\"\\n'\n",
      "           '        }'}\n"
     ]
    },
    {
     "ename": "",
     "evalue": "",
     "output_type": "error",
     "traceback": [
      "\u001b[1;31mThe Kernel crashed while executing code in the current cell or a previous cell. \n",
      "\u001b[1;31mPlease review the code in the cell(s) to identify a possible cause of the failure. \n",
      "\u001b[1;31mClick <a href='https://aka.ms/vscodeJupyterKernelCrash'>here</a> for more info. \n",
      "\u001b[1;31mView Jupyter <a href='command:jupyter.viewOutput'>log</a> for further details."
     ]
    }
   ],
   "source": [
    "query = 'какая комиссия за обслуживание кредитной «Карта возможностей»\"'\n",
    "\n",
    "response = rag_chain.invoke(query)\n",
    "pprint.pprint(response)"
   ]
  },
  {
   "cell_type": "code",
   "execution_count": 4,
   "metadata": {},
   "outputs": [
    {
     "name": "stdout",
     "output_type": "stream",
     "text": [
      "{'query': 'как установить ВТБ онлайн на Astra Linux?',\n",
      " 'result': 'Из предоставленного контекста я не нашел никакой информации о том, '\n",
      "           'как установить приложение ВТБ Онлайн на Astra Linux. Информация '\n",
      "           'касается установки на Android и некоторую дополнительную '\n",
      "           'информацию, но конкретные инструкции по установке на Astra Linux '\n",
      "           'нет.\\n'\n",
      "           '\\n'\n",
      "           'Если вы хотите установить ВТБ Онлайн на Астра Linux, я рекомендую '\n",
      "           'обратиться в службу поддержки ВТБ или посетить официальный сайт '\n",
      "           'банка для получения актуальной информации.'}\n"
     ]
    }
   ],
   "source": [
    "query = \"как установить ВТБ онлайн на Astra Linux?\"\n",
    "\n",
    "response = rag_chain.invoke(query)\n",
    "pprint.pprint(response)"
   ]
  },
  {
   "cell_type": "code",
   "execution_count": 5,
   "metadata": {},
   "outputs": [
    {
     "name": "stdout",
     "output_type": "stream",
     "text": [
      "{'query': 'как установить ВТБ онлайн на Arduino?',\n",
      " 'result': 'К сожалению, но в предоставленном контексте нет информации о том, '\n",
      "           'как установить ВТБ Онлайн на Arduino. Context содержит информацию '\n",
      "           'только об установке приложения на Android и описание некоторых '\n",
      "           'банковских услуг, но не упоминается Arduino.\\n'\n",
      "           '\\n'\n",
      "           'Если вы хотите установить ВТБ Онлайн на Arduino, то, вероятно, вам '\n",
      "           'нужно обратиться к официальной документации или поддержке ВТБ, '\n",
      "           'чтобы узнать, поддерживает ли они работу с Arduino.'}\n"
     ]
    }
   ],
   "source": [
    "query = \"как установить ВТБ онлайн на Arduino?\"\n",
    "\n",
    "response = rag_chain.invoke(query)\n",
    "pprint.pprint(response)"
   ]
  },
  {
   "cell_type": "code",
   "execution_count": 6,
   "metadata": {},
   "outputs": [
    {
     "name": "stdout",
     "output_type": "stream",
     "text": [
      "{'query': 'Лимит снятия наличных по QR-коду',\n",
      " 'result': 'В рамках пакета банковских услуг «Мультикарта» — 60 000 ₽/день.'}\n"
     ]
    }
   ],
   "source": [
    "query = \"Лимит снятия наличных по QR-коду\"\n",
    "\n",
    "response = rag_chain.invoke(query)\n",
    "pprint.pprint(response)"
   ]
  },
  {
   "cell_type": "code",
   "execution_count": 7,
   "metadata": {},
   "outputs": [
    {
     "name": "stdout",
     "output_type": "stream",
     "text": [
      "{'query': 'как установить ВТБ онлайн на микроволновку?',\n",
      " 'result': 'Из контекстной информации нет никакой связи с установкой ВТБ '\n",
      "           'Онлайн на микроволновке. ВТБ Онлайн — это мобильное приложение, а '\n",
      "           'в описании приведены инструкции по его установке на '\n",
      "           'Андроид-устройстве. Поэтому, к сожалению, я не могу предоставить '\n",
      "           'информацию о том, как установить ВТБ Онлайн на микроволновку, '\n",
      "           'поскольку такая возможность не существует.'}\n"
     ]
    }
   ],
   "source": [
    "query = \"как установить ВТБ онлайн на микроволновку?\"\n",
    "\n",
    "response = rag_chain.invoke(query)\n",
    "pprint.pprint(response)"
   ]
  },
  {
   "cell_type": "code",
   "execution_count": null,
   "metadata": {},
   "outputs": [],
   "source": [
    "Снятие наличных в банкоматах"
   ]
  },
  {
   "cell_type": "code",
   "execution_count": 9,
   "metadata": {},
   "outputs": [
    {
     "name": "stdout",
     "output_type": "stream",
     "text": [
      "{'query': 'расскажи про карту Привелегия',\n",
      " 'result': 'По контекстной информации:\\n'\n",
      "           '\\n'\n",
      "           '\"Карта Привилегия\":\\n'\n",
      "           '\\n'\n",
      "           '* \"Обслуживание карты\": Стоимость 0 ₽, независимо от суммы '\n",
      "           'покупок.\\n'\n",
      "           '* \"Подключение программы лояльности\": Стоимость 0 ₽, кэшбэк от 2% '\n",
      "           'в категориях.\\n'\n",
      "           '\\n'\n",
      "           'В общем, Карта Привилегия — это карточный продукт с '\n",
      "           'привлекательными условиями обслуживания и возможностью подключения '\n",
      "           'программы лояльности.'}\n"
     ]
    }
   ],
   "source": [
    "query = \"расскажи про карту Привелегия\"\n",
    "\n",
    "response = rag_chain.invoke(query)\n",
    "pprint.pprint(response)"
   ]
  },
  {
   "cell_type": "code",
   "execution_count": 10,
   "metadata": {},
   "outputs": [
    {
     "name": "stdout",
     "output_type": "stream",
     "text": [
      "{'query': 'сколько стоит обслуживание карты Привелегия?',\n",
      " 'result': 'Стоимость обслуживания карты \"Привилегия\" составляет 0 ₽, '\n",
      "           'независимо от суммы покупок. Это указано в разделе \"Карта '\n",
      "           'Привилегия\" > \"Обслуживание карты\" под ключом \"Стоимость\".'}\n"
     ]
    }
   ],
   "source": [
    "query = \"сколько стоит обслуживание карты Привелегия?\"\n",
    "\n",
    "response = rag_chain.invoke(query)\n",
    "pprint.pprint(response)"
   ]
  },
  {
   "cell_type": "code",
   "execution_count": 11,
   "metadata": {},
   "outputs": [
    {
     "name": "stdout",
     "output_type": "stream",
     "text": [
      "{'query': 'а какой кэшбэк для карты Привелегия?',\n",
      " 'result': 'Кэшбэк для карты Привилегия не указан в предоставленном контексте. '\n",
      "           'Однако, согласно информации о Комиссиях за обслуживание кредитной '\n",
      "           '«Карта возможностей», у карты Привилегия нет программы лояльности '\n",
      "           'и, следовательно, нет кэшбэка.'}\n"
     ]
    }
   ],
   "source": [
    "query = \"а какой кэшбэк для карты Привелегия?\"\n",
    "\n",
    "response = rag_chain.invoke(query)\n",
    "pprint.pprint(response)"
   ]
  },
  {
   "cell_type": "code",
   "execution_count": 12,
   "metadata": {},
   "outputs": [
    {
     "name": "stdout",
     "output_type": "stream",
     "text": [
      "{'query': 'расскажи Подключение программы лояльности?',\n",
      " 'result': 'Подключение программы лояльности для карты \"Карта возможностей\" '\n",
      "           'бесплатно. Это означает что кэшбэк от 2% в определенных категориях '\n",
      "           'будет доступен без дополнительной стоимости.'}\n"
     ]
    }
   ],
   "source": [
    "query = \"расскажи Подключение программы лояльности?\"\n",
    "\n",
    "response = rag_chain.invoke(query)\n",
    "pprint.pprint(response)"
   ]
  },
  {
   "cell_type": "code",
   "execution_count": 13,
   "metadata": {},
   "outputs": [
    {
     "name": "stdout",
     "output_type": "stream",
     "text": [
      "{'query': 'подскажи как установить ВТБ онлайн на android ?',\n",
      " 'result': 'Установка ВТБ Онлайн на Android:\\n'\n",
      "           '\\n'\n",
      "           '1. Скачайте приложение,\\n'\n",
      "           '2. Запустите установку. Файл vtbonline.apk можно найти в загрузках '\n",
      "           'или скачанных файлах,\\n'\n",
      "           '3. Разрешите браузеру устанавливать приложения. При установке '\n",
      "           'появится сообщение о неизвестном источнике – это стандартное '\n",
      "           'предупреждение,\\n'\n",
      "           '4. Установка завершена.'}\n"
     ]
    }
   ],
   "source": [
    "query = \"подскажи как установить ВТБ онлайн на android ?\"\n",
    "\n",
    "response = rag_chain.invoke(query)\n",
    "pprint.pprint(response)"
   ]
  },
  {
   "cell_type": "code",
   "execution_count": 15,
   "metadata": {},
   "outputs": [
    {
     "name": "stdout",
     "output_type": "stream",
     "text": [
      "{'query': 'подскажи как установить ВТБ онлайн на android? Выведи этот список '\n",
      "          'так чтобы не было цифр и вместо них были смайлики',\n",
      " 'result': 'Вот список, как установить ВТБ Онлайн на Android без цифр:\\n'\n",
      "           '\\n'\n",
      "           '1. Скачайте приложение, 😊\\n'\n",
      "           '2. Запустите установку. Файл vtbonline.apk можно найти в загрузках '\n",
      "           'или скачанных файлах, 😊\\n'\n",
      "           '3. Разрешите установке приложения из неизвестного источника, 😊\\n'\n",
      "           '4. Нажмите на кнопку \"Установить\", 😊\\n'\n",
      "           '5. Подождите, пока процесс установки завершится, 😊\\n'\n",
      "           '6. Нажмите на кнопку \"Открыть\" или дважды нажмите на приложение '\n",
      "           'ВТБ Онлайн в списке установленных приложений, чтобы запустить его, '\n",
      "           '😊.\\n'\n",
      "           '\\n'\n",
      "           'Также в контексте есть инструкция, которая говорит:\\n'\n",
      "           '\\n'\n",
      "           '\"Скачайте приложение, 😊. Файл vtbonline.apk можно найти в '\n",
      "           'загрузках или скачанных файлах.\"'}\n"
     ]
    }
   ],
   "source": [
    "query = \"подскажи как установить ВТБ онлайн на android? Выведи этот список так чтобы не было цифр и вместо них были смайлики\"\n",
    "\n",
    "response = rag_chain.invoke(query)\n",
    "pprint.pprint(response)"
   ]
  },
  {
   "cell_type": "code",
   "execution_count": null,
   "metadata": {},
   "outputs": [],
   "source": []
  },
  {
   "cell_type": "code",
   "execution_count": null,
   "metadata": {},
   "outputs": [],
   "source": []
  },
  {
   "cell_type": "code",
   "execution_count": 14,
   "metadata": {},
   "outputs": [
    {
     "name": "stdout",
     "output_type": "stream",
     "text": [
      "{'query': 'подскажи как установить ВТБ онлайн на Windows 98 ?',\n",
      " 'result': 'Из предоставленного контекста я не вижу информации о том, как '\n",
      "           'устанавливать ВТБ Онлайн на Windows 98. Фактически, в контексте '\n",
      "           'упоминается только установка на Android, а также некоторые '\n",
      "           'инструкции для настройки VTB Pay Drupal. Neither Windows 98 nor '\n",
      "           'VTB Online app is mentioned in the context.\\n'\n",
      "           '\\n'\n",
      "           'Windows 98 — это устаревший операционный системный продукт, '\n",
      "           'выпущенный Microsoft в 1998 году. Возможность установки '\n",
      "           'современных приложений, включая ВТБ Онлайн, на эту ОС весьма '\n",
      "           'ограничена или отсутствует в принципе.\\n'\n",
      "           '\\n'\n",
      "           'Если вы все же пытаетесь установить ВТБ Онлайн на Windows 98, я не '\n",
      "           'могу вам помочь с этой проблемой, поскольку это потребует глубоких '\n",
      "           'знаний по компьютерной технике и программированию.'}\n"
     ]
    }
   ],
   "source": [
    "query = \"подскажи как установить ВТБ онлайн на Windows 98 ?\"\n",
    "\n",
    "response = rag_chain.invoke(query)\n",
    "pprint.pprint(response)"
   ]
  },
  {
   "cell_type": "code",
   "execution_count": null,
   "metadata": {},
   "outputs": [],
   "source": [
    "query = \"подскажи как установить ВТБ онлайн на Windows 98 ?\"\n",
    "\n",
    "response = rag_chain.invoke(query)\n",
    "pprint.pprint(response)"
   ]
  },
  {
   "cell_type": "code",
   "execution_count": null,
   "metadata": {},
   "outputs": [],
   "source": []
  },
  {
   "cell_type": "code",
   "execution_count": 8,
   "metadata": {},
   "outputs": [
    {
     "name": "stdout",
     "output_type": "stream",
     "text": [
      "{'query': 'расскажи мне про снятие наличных в банкоматах?',\n",
      " 'result': 'Согласно контекстной информации:\\n'\n",
      "           '\\n'\n",
      "           'При снятии наличных в банкоматах действуют следующие лимиты и '\n",
      "           'комиссии:\\n'\n",
      "           '\\n'\n",
      "           '* Дебетовая карта и карта Привилегия:\\n'\n",
      "           ' + В банкоматах ВТБ и группы ВТБ: бесплатно (0 ₽)\\n'\n",
      "           ' + В банкоматах сторонних банков: 1% от суммы, минимум 300 ₽ / 5$ '\n",
      "           '/ 5€. Однако, для зарплатных клиентов до 50 000 ₽ в месяц комиссия '\n",
      "           'отсутствует.\\n'\n",
      "           '* Лимиты дебетовой карты:\\n'\n",
      "           ' + Дневной лимит: 350 тыс. ₽/день\\n'\n",
      "           ' + Месячный лимит: 2 млн ₽/мес.\\n'\n",
      "           '* Лимиты дебетовой карты Привилегия:\\n'\n",
      "           ' + Дневной лимит: 1 млн ₽/день\\n'\n",
      "           ' + Месячный лимит: 5 млн ₽/мес.\\n'\n",
      "           '\\n'\n",
      "           'Кредитная Карта возможностей и Карта возможостей Привилегия:\\n'\n",
      "           '\\n'\n",
      "           '* Комиссия за снятие наличных из кредитного лимита:\\n'\n",
      "           ' + 0% (до 100 000 ₽ в первые 30 дней с даты заключения договора)\\n'\n",
      "           ' + 5,9% + 590 ₽ (в остальных случаях)\\n'\n",
      "           '* Комиссия за снятие наличных из собственных средств:\\n'\n",
      "           ' + 0% (При снятии наличных в банкоматах и пунктах выдачи наличных '\n",
      "           'ВТБ)\\n'\n",
      "           ' + 1%, мин. 300 ₽ (В иных случаях)\\n'\n",
      "           '* Лимит на снятие наличных Карты возможностей:\\n'\n",
      "           ' + Дневной лимит: 350 тыс. ₽/день\\n'\n",
      "           ' + Месячный лимит: 2 млн ₽/мес.\\n'\n",
      "           '* Лимит кредитной Карты возможостей Привилегия:\\n'\n",
      "           ' + Дневной лимит: 400 тыс. ₽/день\\n'\n",
      "           ' + Месячный лимит: 3 млн ₽/мес.\\n'\n",
      "           '\\n'\n",
      "           'Снятие наличных по QR-коду имеет следующие лимиты:\\n'\n",
      "           '\\n'\n",
      "           '* Лимит в рамках пакета банковских услуг «Мультикарта»: 60 000 '\n",
      "           '₽/день\\n'\n",
      "           '* Лимит в рамках пакета банковских услуг «Привилегия-Мультикарта»: '\n",
      "           '200 000 ₽/день\\n'\n",
      "           '* Лимит в рамках пакета банковских услуг «Прайм+»: 400 000 ₽/день\\n'\n",
      "           '\\n'\n",
      "           'В общем, лимиты и комиссии для снятия наличных в банкоматах '\n",
      "           'зависят от типа карты и пакета банковских услуг, которые вы '\n",
      "           'пользуетесь.'}\n"
     ]
    }
   ],
   "source": [
    "query = \"расскажи мне про снятие наличных в банкоматах?\"\n",
    "\n",
    "response = rag_chain.invoke(query)\n",
    "pprint.pprint(response)"
   ]
  },
  {
   "cell_type": "code",
   "execution_count": null,
   "metadata": {},
   "outputs": [],
   "source": []
  },
  {
   "cell_type": "code",
   "execution_count": null,
   "metadata": {},
   "outputs": [],
   "source": []
  },
  {
   "cell_type": "code",
   "execution_count": null,
   "metadata": {},
   "outputs": [],
   "source": []
  },
  {
   "cell_type": "code",
   "execution_count": null,
   "metadata": {},
   "outputs": [],
   "source": []
  },
  {
   "cell_type": "code",
   "execution_count": null,
   "metadata": {},
   "outputs": [],
   "source": [
    "! ollama list"
   ]
  }
 ],
 "metadata": {
  "kernelspec": {
   "display_name": ".venv",
   "language": "python",
   "name": "python3"
  },
  "language_info": {
   "codemirror_mode": {
    "name": "ipython",
    "version": 3
   },
   "file_extension": ".py",
   "mimetype": "text/x-python",
   "name": "python",
   "nbconvert_exporter": "python",
   "pygments_lexer": "ipython3",
   "version": "3.10.14"
  }
 },
 "nbformat": 4,
 "nbformat_minor": 2
}
